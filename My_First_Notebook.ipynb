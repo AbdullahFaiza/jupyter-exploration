{
 "cells": [
  {
   "cell_type": "markdown",
   "id": "b754fa38-db73-4330-ab75-1b01b3de1ca9",
   "metadata": {},
   "source": [
    "\"My first markdown cell in Jupyter.\""
   ]
  },
  {
   "cell_type": "code",
   "execution_count": 4,
   "id": "d0cd4857-ee69-4e99-a76e-ea9cf73d3d3c",
   "metadata": {},
   "outputs": [
    {
     "name": "stdout",
     "output_type": "stream",
     "text": [
      "Hello, World!\n"
     ]
    }
   ],
   "source": [
    "print(\"Hello, World!\")"
   ]
  }
 ],
 "metadata": {
  "kernelspec": {
   "display_name": "Python [conda env:base] *",
   "language": "python",
   "name": "conda-base-py"
  },
  "language_info": {
   "codemirror_mode": {
    "name": "ipython",
    "version": 3
   },
   "file_extension": ".py",
   "mimetype": "text/x-python",
   "name": "python",
   "nbconvert_exporter": "python",
   "pygments_lexer": "ipython3",
   "version": "3.12.7"
  }
 },
 "nbformat": 4,
 "nbformat_minor": 5
}
